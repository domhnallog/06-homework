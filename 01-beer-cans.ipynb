{
 "cells": [
  {
   "cell_type": "markdown",
   "metadata": {
    "collapsed": true
   },
   "source": [
    "# Homework 6, Part One: Lots and lots of questions about beer"
   ]
  },
  {
   "cell_type": "markdown",
   "metadata": {},
   "source": [
    "### Do your importing and your setup"
   ]
  },
  {
   "cell_type": "code",
   "execution_count": 1,
   "metadata": {},
   "outputs": [],
   "source": [
    "import pandas as pd\n",
    "import numpy as np\n",
    "\n",
    "%matplotlib inline"
   ]
  },
  {
   "cell_type": "markdown",
   "metadata": {},
   "source": [
    "## Read in the file `craftcans.csv`, and look at the first first rows"
   ]
  },
  {
   "cell_type": "code",
   "execution_count": 2,
   "metadata": {},
   "outputs": [],
   "source": [
    "df = pd.read_csv(\"craftcans.csv\")"
   ]
  },
  {
   "cell_type": "markdown",
   "metadata": {},
   "source": [
    "## How many rows do you have in the data? What are the column types?"
   ]
  },
  {
   "cell_type": "code",
   "execution_count": 3,
   "metadata": {},
   "outputs": [
    {
     "data": {
      "text/plain": [
       "(2416, 7)"
      ]
     },
     "execution_count": 3,
     "metadata": {},
     "output_type": "execute_result"
    }
   ],
   "source": [
    "df.shape"
   ]
  },
  {
   "cell_type": "code",
   "execution_count": 4,
   "metadata": {},
   "outputs": [
    {
     "data": {
      "text/plain": [
       "Beer        object\n",
       "Brewery     object\n",
       "Location    object\n",
       "Style       object\n",
       "Size        object\n",
       "ABV         object\n",
       "IBUs        object\n",
       "dtype: object"
      ]
     },
     "execution_count": 4,
     "metadata": {},
     "output_type": "execute_result"
    }
   ],
   "source": [
    "df.dtypes"
   ]
  },
  {
   "cell_type": "code",
   "execution_count": 5,
   "metadata": {},
   "outputs": [
    {
     "data": {
      "text/html": [
       "<div>\n",
       "<style scoped>\n",
       "    .dataframe tbody tr th:only-of-type {\n",
       "        vertical-align: middle;\n",
       "    }\n",
       "\n",
       "    .dataframe tbody tr th {\n",
       "        vertical-align: top;\n",
       "    }\n",
       "\n",
       "    .dataframe thead th {\n",
       "        text-align: right;\n",
       "    }\n",
       "</style>\n",
       "<table border=\"1\" class=\"dataframe\">\n",
       "  <thead>\n",
       "    <tr style=\"text-align: right;\">\n",
       "      <th></th>\n",
       "      <th>Beer</th>\n",
       "      <th>Brewery</th>\n",
       "      <th>Location</th>\n",
       "      <th>Style</th>\n",
       "      <th>Size</th>\n",
       "      <th>ABV</th>\n",
       "      <th>IBUs</th>\n",
       "    </tr>\n",
       "  </thead>\n",
       "  <tbody>\n",
       "    <tr>\n",
       "      <th>0</th>\n",
       "      <td>Get Together</td>\n",
       "      <td>NorthGate Brewing</td>\n",
       "      <td>Minneapolis, MN</td>\n",
       "      <td>American IPA</td>\n",
       "      <td>16 oz.</td>\n",
       "      <td>4.50%</td>\n",
       "      <td>50</td>\n",
       "    </tr>\n",
       "    <tr>\n",
       "      <th>1</th>\n",
       "      <td>Maggie's Leap</td>\n",
       "      <td>NorthGate Brewing</td>\n",
       "      <td>Minneapolis, MN</td>\n",
       "      <td>Milk / Sweet Stout</td>\n",
       "      <td>16 oz.</td>\n",
       "      <td>4.90%</td>\n",
       "      <td>26</td>\n",
       "    </tr>\n",
       "    <tr>\n",
       "      <th>2</th>\n",
       "      <td>Wall's End</td>\n",
       "      <td>NorthGate Brewing</td>\n",
       "      <td>Minneapolis, MN</td>\n",
       "      <td>English Brown Ale</td>\n",
       "      <td>16 oz.</td>\n",
       "      <td>4.80%</td>\n",
       "      <td>19</td>\n",
       "    </tr>\n",
       "    <tr>\n",
       "      <th>3</th>\n",
       "      <td>Pumpion</td>\n",
       "      <td>NorthGate Brewing</td>\n",
       "      <td>Minneapolis, MN</td>\n",
       "      <td>Pumpkin Ale</td>\n",
       "      <td>16 oz.</td>\n",
       "      <td>6.00%</td>\n",
       "      <td>38</td>\n",
       "    </tr>\n",
       "    <tr>\n",
       "      <th>4</th>\n",
       "      <td>Stronghold</td>\n",
       "      <td>NorthGate Brewing</td>\n",
       "      <td>Minneapolis, MN</td>\n",
       "      <td>American Porter</td>\n",
       "      <td>16 oz.</td>\n",
       "      <td>6.00%</td>\n",
       "      <td>25</td>\n",
       "    </tr>\n",
       "  </tbody>\n",
       "</table>\n",
       "</div>"
      ],
      "text/plain": [
       "            Beer            Brewery         Location               Style  \\\n",
       "0   Get Together  NorthGate Brewing  Minneapolis, MN        American IPA   \n",
       "1  Maggie's Leap  NorthGate Brewing  Minneapolis, MN  Milk / Sweet Stout   \n",
       "2     Wall's End  NorthGate Brewing  Minneapolis, MN   English Brown Ale   \n",
       "3        Pumpion  NorthGate Brewing  Minneapolis, MN         Pumpkin Ale   \n",
       "4     Stronghold  NorthGate Brewing  Minneapolis, MN     American Porter   \n",
       "\n",
       "     Size    ABV IBUs  \n",
       "0  16 oz.  4.50%   50  \n",
       "1  16 oz.  4.90%   26  \n",
       "2  16 oz.  4.80%   19  \n",
       "3  16 oz.  6.00%   38  \n",
       "4  16 oz.  6.00%   25  "
      ]
     },
     "execution_count": 5,
     "metadata": {},
     "output_type": "execute_result"
    }
   ],
   "source": [
    "df.head()"
   ]
  },
  {
   "cell_type": "markdown",
   "metadata": {},
   "source": [
    "# Checking out our alcohol"
   ]
  },
  {
   "cell_type": "markdown",
   "metadata": {},
   "source": [
    "## What are the top 10 producers of cans of beer?"
   ]
  },
  {
   "cell_type": "code",
   "execution_count": 6,
   "metadata": {},
   "outputs": [
    {
     "name": "stdout",
     "output_type": "stream",
     "text": [
      "A couple of tie-scores in there:\n",
      "Brewery Vivant                     62\n",
      "Oskar Blues Brewery                46\n",
      "Sun King Brewing Company           38\n",
      "Cigar City Brewing Company         25\n",
      "Sixpoint Craft Ales                24\n",
      "Hopworks Urban Brewery             23\n",
      "Stevens Point Brewery              22\n",
      "Great Crescent Brewery             20\n",
      "21st Amendment Brewery             20\n",
      "SanTan Brewing Company             19\n",
      "Bonfire Brewing Company            19\n",
      "Upslope Brewing Company            18\n",
      "Tallgrass Brewing Company          18\n",
      "Anderson Valley Brewing Company    18\n",
      "Great River Brewery                18\n",
      "Name: Brewery, dtype: int64\n"
     ]
    }
   ],
   "source": [
    "print(\"A couple of tie-scores in there:\")\n",
    "print(df.Brewery.value_counts().head(15))"
   ]
  },
  {
   "cell_type": "markdown",
   "metadata": {},
   "source": [
    "## What is the most common ABV? (alcohol by volume)"
   ]
  },
  {
   "cell_type": "code",
   "execution_count": 7,
   "metadata": {},
   "outputs": [
    {
     "data": {
      "text/plain": [
       "0    5.00%\n",
       "dtype: object"
      ]
     },
     "execution_count": 7,
     "metadata": {},
     "output_type": "execute_result"
    }
   ],
   "source": [
    "df.ABV.mode()"
   ]
  },
  {
   "cell_type": "code",
   "execution_count": 8,
   "metadata": {},
   "outputs": [],
   "source": [
    "# df.ABV.hist(bins=114, figsize=(18,5))"
   ]
  },
  {
   "cell_type": "markdown",
   "metadata": {},
   "source": [
    "## Oh, weird, ABV isn't a number. Convert it to a number for me, please.\n",
    "\n",
    "It's going to take a few steps!\n",
    "\n",
    "### First, let's just look at the ABV column by itself"
   ]
  },
  {
   "cell_type": "code",
   "execution_count": 9,
   "metadata": {},
   "outputs": [
    {
     "data": {
      "text/plain": [
       "0     4.50%\n",
       "1     4.90%\n",
       "2     4.80%\n",
       "3     6.00%\n",
       "4     6.00%\n",
       "5     5.60%\n",
       "6     8.00%\n",
       "7    12.50%\n",
       "8     7.70%\n",
       "9     4.20%\n",
       "Name: ABV, dtype: object"
      ]
     },
     "execution_count": 9,
     "metadata": {},
     "output_type": "execute_result"
    }
   ],
   "source": [
    "df.ABV.head(10)"
   ]
  },
  {
   "cell_type": "markdown",
   "metadata": {},
   "source": [
    "### Hm, `%` isn't part of  a number. Let's remove it.\n",
    "\n",
    "When you're confident you got it right, save the results back into the `ABV` column.\n",
    "\n",
    "- *Tip: In programming the easiest way to remove something is to *replacing it with nothing*.\n",
    "- *Tip: \"nothing\" might seem like `NaN` sinc we talked about it a lot in class, but in this case it isn't! It's just an empty string, like \"\"*\n",
    "- *Tip: `.replace` is used for replacing ENTIRE cells, while `.str.replace` is useful for replacing PARTS of cells (see my New York example)*"
   ]
  },
  {
   "cell_type": "code",
   "execution_count": 10,
   "metadata": {},
   "outputs": [],
   "source": [
    "df['ABV'] = df.ABV.str.replace(\"%\",\"\")"
   ]
  },
  {
   "cell_type": "markdown",
   "metadata": {},
   "source": [
    "### Now let's turn `ABV` into a numeric data type\n",
    "\n",
    "Save the results back into the `ABV` column (again), and then check `df.dtypes` to make sure it worked.\n",
    "\n",
    "- *Tip: We used `.astype(int)` during class, but this has a decimal in it...*"
   ]
  },
  {
   "cell_type": "code",
   "execution_count": 11,
   "metadata": {},
   "outputs": [],
   "source": [
    "df.ABV = df.ABV.astype(float)"
   ]
  },
  {
   "cell_type": "markdown",
   "metadata": {},
   "source": [
    "## What's the ABV of the average beer look like?\n",
    "\n",
    "### Show me in two different ways: one command to show the `median`/`mean`/etc, and secondly show me a chart"
   ]
  },
  {
   "cell_type": "code",
   "execution_count": 12,
   "metadata": {},
   "outputs": [
    {
     "data": {
      "text/plain": [
       "count    2348.000000\n",
       "mean        5.977342\n",
       "std         1.354173\n",
       "min         0.100000\n",
       "25%         5.000000\n",
       "50%         5.600000\n",
       "75%         6.700000\n",
       "max        12.800000\n",
       "Name: ABV, dtype: float64"
      ]
     },
     "execution_count": 12,
     "metadata": {},
     "output_type": "execute_result"
    }
   ],
   "source": [
    "df.ABV.describe()"
   ]
  },
  {
   "cell_type": "code",
   "execution_count": 13,
   "metadata": {},
   "outputs": [
    {
     "data": {
      "text/plain": [
       "<matplotlib.axes._subplots.AxesSubplot at 0x117a5dd0>"
      ]
     },
     "execution_count": 13,
     "metadata": {},
     "output_type": "execute_result"
    },
    {
     "data": {
      "image/png": "[encoded data removed]",
      "text/plain": [
       "<Figure size 1296x360 with 1 Axes>"
      ]
     },
     "metadata": {
      "needs_background": "light"
     },
     "output_type": "display_data"
    }
   ],
   "source": [
    "df.ABV.hist(bins=12, figsize=(18,5))"
   ]
  },
  {
   "cell_type": "markdown",
   "metadata": {},
   "source": [
    "### We don't have ABV for all of the beers, how many are we missing them from?\n",
    "\n",
    "- *Tip: You can use `isnull()` or `notnull()` to see where a column is missing data.*\n",
    "- *Tip: You just want to count how many `True`s and `False`s there are.*\n",
    "- *Tip: It's a weird trick involving something we usually use to count things in a column*"
   ]
  },
  {
   "cell_type": "code",
   "execution_count": 14,
   "metadata": {},
   "outputs": [
    {
     "data": {
      "text/plain": [
       "False    2348\n",
       "True       68\n",
       "Name: ABV, dtype: int64"
      ]
     },
     "execution_count": 14,
     "metadata": {},
     "output_type": "execute_result"
    }
   ],
   "source": [
    "df.ABV.isnull().value_counts()"
   ]
  },
  {
   "cell_type": "markdown",
   "metadata": {},
   "source": [
    "# Looking at location\n",
    "\n",
    "Brooklyn used to produce 80% of the country's beer! Let's see if it's still true."
   ]
  },
  {
   "cell_type": "markdown",
   "metadata": {},
   "source": [
    "## What are the top 10 cities in the US for canned craft beer?"
   ]
  },
  {
   "cell_type": "code",
   "execution_count": 15,
   "metadata": {},
   "outputs": [
    {
     "data": {
      "text/plain": [
       "Grand Rapids, MI    66\n",
       "Chicago, IL         55\n",
       "Portland, OR        52\n",
       "Indianapolis, IN    43\n",
       "San Diego, CA       42\n",
       "Boulder, CO         41\n",
       "Denver, CO          40\n",
       "Brooklyn, NY        38\n",
       "Seattle, WA         35\n",
       "Longmont, CO        33\n",
       "Name: Location, dtype: int64"
      ]
     },
     "execution_count": 15,
     "metadata": {},
     "output_type": "execute_result"
    }
   ],
   "source": [
    "df.Location.value_counts().head(10)"
   ]
  },
  {
   "cell_type": "markdown",
   "metadata": {},
   "source": [
    "## List all of the beer from Brooklyn, NY"
   ]
  },
  {
   "cell_type": "code",
   "execution_count": 16,
   "metadata": {},
   "outputs": [
    {
     "data": {
      "text/html": [
       "<div>\n",
       "<style scoped>\n",
       "    .dataframe tbody tr th:only-of-type {\n",
       "        vertical-align: middle;\n",
       "    }\n",
       "\n",
       "    .dataframe tbody tr th {\n",
       "        vertical-align: top;\n",
       "    }\n",
       "\n",
       "    .dataframe thead th {\n",
       "        text-align: right;\n",
       "    }\n",
       "</style>\n",
       "<table border=\"1\" class=\"dataframe\">\n",
       "  <thead>\n",
       "    <tr style=\"text-align: right;\">\n",
       "      <th></th>\n",
       "      <th>Beer</th>\n",
       "      <th>Brewery</th>\n",
       "      <th>Location</th>\n",
       "      <th>Style</th>\n",
       "      <th>Size</th>\n",
       "      <th>ABV</th>\n",
       "      <th>IBUs</th>\n",
       "    </tr>\n",
       "  </thead>\n",
       "  <tbody>\n",
       "    <tr>\n",
       "      <th>115</th>\n",
       "      <td>4Beans</td>\n",
       "      <td>Sixpoint Craft Ales</td>\n",
       "      <td>Brooklyn, NY</td>\n",
       "      <td>Baltic Porter</td>\n",
       "      <td>12 oz.</td>\n",
       "      <td>10.0</td>\n",
       "      <td>52</td>\n",
       "    </tr>\n",
       "    <tr>\n",
       "      <th>210</th>\n",
       "      <td>Jammer</td>\n",
       "      <td>Sixpoint Craft Ales</td>\n",
       "      <td>Brooklyn, NY</td>\n",
       "      <td>Gose</td>\n",
       "      <td>12 oz. Slimline</td>\n",
       "      <td>4.2</td>\n",
       "      <td>16</td>\n",
       "    </tr>\n",
       "    <tr>\n",
       "      <th>246</th>\n",
       "      <td>Abigale</td>\n",
       "      <td>Sixpoint Craft Ales</td>\n",
       "      <td>Brooklyn, NY</td>\n",
       "      <td>Belgian Pale Ale</td>\n",
       "      <td>12 oz.</td>\n",
       "      <td>8.0</td>\n",
       "      <td>Does not apply</td>\n",
       "    </tr>\n",
       "    <tr>\n",
       "      <th>404</th>\n",
       "      <td>Nomader Weiss</td>\n",
       "      <td>Evil Twin Brewing</td>\n",
       "      <td>Brooklyn, NY</td>\n",
       "      <td>Berliner Weissbier</td>\n",
       "      <td>12 oz.</td>\n",
       "      <td>4.0</td>\n",
       "      <td>Does not apply</td>\n",
       "    </tr>\n",
       "    <tr>\n",
       "      <th>421</th>\n",
       "      <td>Rad</td>\n",
       "      <td>Sixpoint Craft Ales</td>\n",
       "      <td>Brooklyn, NY</td>\n",
       "      <td>Fruit / Vegetable Beer</td>\n",
       "      <td>16 oz.</td>\n",
       "      <td>3.2</td>\n",
       "      <td>7</td>\n",
       "    </tr>\n",
       "    <tr>\n",
       "      <th>439</th>\n",
       "      <td>Molotov Lite</td>\n",
       "      <td>Evil Twin Brewing</td>\n",
       "      <td>Brooklyn, NY</td>\n",
       "      <td>American Double / Imperial IPA</td>\n",
       "      <td>16 oz.</td>\n",
       "      <td>8.5</td>\n",
       "      <td>Does not apply</td>\n",
       "    </tr>\n",
       "    <tr>\n",
       "      <th>588</th>\n",
       "      <td>Bengali</td>\n",
       "      <td>Sixpoint Craft Ales</td>\n",
       "      <td>Brooklyn, NY</td>\n",
       "      <td>American IPA</td>\n",
       "      <td>24 oz. \"Silo Can\"</td>\n",
       "      <td>6.5</td>\n",
       "      <td>62</td>\n",
       "    </tr>\n",
       "    <tr>\n",
       "      <th>713</th>\n",
       "      <td>Sensi Harvest</td>\n",
       "      <td>Sixpoint Craft Ales</td>\n",
       "      <td>Brooklyn, NY</td>\n",
       "      <td>American Pale Ale (APA)</td>\n",
       "      <td>12 oz.</td>\n",
       "      <td>4.7</td>\n",
       "      <td>50</td>\n",
       "    </tr>\n",
       "    <tr>\n",
       "      <th>969</th>\n",
       "      <td>Hi-Res</td>\n",
       "      <td>Sixpoint Craft Ales</td>\n",
       "      <td>Brooklyn, NY</td>\n",
       "      <td>American Double / Imperial IPA</td>\n",
       "      <td>12 oz.</td>\n",
       "      <td>9.9</td>\n",
       "      <td>111</td>\n",
       "    </tr>\n",
       "    <tr>\n",
       "      <th>987</th>\n",
       "      <td>KelSo Nut Brown Lager</td>\n",
       "      <td>KelSo Beer Company</td>\n",
       "      <td>Brooklyn, NY</td>\n",
       "      <td>Euro Dark Lager</td>\n",
       "      <td>12 oz.</td>\n",
       "      <td>5.7</td>\n",
       "      <td>19</td>\n",
       "    </tr>\n",
       "    <tr>\n",
       "      <th>1057</th>\n",
       "      <td>Global Warmer</td>\n",
       "      <td>Sixpoint Craft Ales</td>\n",
       "      <td>Brooklyn, NY</td>\n",
       "      <td>American Strong Ale</td>\n",
       "      <td>12 oz.</td>\n",
       "      <td>7.0</td>\n",
       "      <td>70</td>\n",
       "    </tr>\n",
       "    <tr>\n",
       "      <th>1074</th>\n",
       "      <td>Autumnation (2013)</td>\n",
       "      <td>Sixpoint Craft Ales</td>\n",
       "      <td>Brooklyn, NY</td>\n",
       "      <td>American IPA</td>\n",
       "      <td>16 oz.</td>\n",
       "      <td>6.7</td>\n",
       "      <td>74</td>\n",
       "    </tr>\n",
       "    <tr>\n",
       "      <th>1093</th>\n",
       "      <td>KelSo India Pale Ale</td>\n",
       "      <td>KelSo Beer Company</td>\n",
       "      <td>Brooklyn, NY</td>\n",
       "      <td>American IPA</td>\n",
       "      <td>12 oz.</td>\n",
       "      <td>6.0</td>\n",
       "      <td>64</td>\n",
       "    </tr>\n",
       "    <tr>\n",
       "      <th>1267</th>\n",
       "      <td>The Crisp</td>\n",
       "      <td>Sixpoint Craft Ales</td>\n",
       "      <td>Brooklyn, NY</td>\n",
       "      <td>German Pilsener</td>\n",
       "      <td>16 oz.</td>\n",
       "      <td>5.4</td>\n",
       "      <td>42</td>\n",
       "    </tr>\n",
       "    <tr>\n",
       "      <th>1268</th>\n",
       "      <td>Sweet Action</td>\n",
       "      <td>Sixpoint Craft Ales</td>\n",
       "      <td>Brooklyn, NY</td>\n",
       "      <td>Cream Ale</td>\n",
       "      <td>16 oz.</td>\n",
       "      <td>5.2</td>\n",
       "      <td>34</td>\n",
       "    </tr>\n",
       "    <tr>\n",
       "      <th>1269</th>\n",
       "      <td>Righteous Ale</td>\n",
       "      <td>Sixpoint Craft Ales</td>\n",
       "      <td>Brooklyn, NY</td>\n",
       "      <td>Rye Beer</td>\n",
       "      <td>16 oz.</td>\n",
       "      <td>6.3</td>\n",
       "      <td>57</td>\n",
       "    </tr>\n",
       "    <tr>\n",
       "      <th>1270</th>\n",
       "      <td>Bengali Tiger</td>\n",
       "      <td>Sixpoint Craft Ales</td>\n",
       "      <td>Brooklyn, NY</td>\n",
       "      <td>American IPA</td>\n",
       "      <td>16 oz.</td>\n",
       "      <td>6.4</td>\n",
       "      <td>62</td>\n",
       "    </tr>\n",
       "    <tr>\n",
       "      <th>1305</th>\n",
       "      <td>KelSo Pilsner</td>\n",
       "      <td>KelSo Beer Company</td>\n",
       "      <td>Brooklyn, NY</td>\n",
       "      <td>Czech Pilsener</td>\n",
       "      <td>12 oz.</td>\n",
       "      <td>5.5</td>\n",
       "      <td>23</td>\n",
       "    </tr>\n",
       "    <tr>\n",
       "      <th>1365</th>\n",
       "      <td>Hipster Ale (Two Roads Brewing)</td>\n",
       "      <td>Evil Twin Brewing</td>\n",
       "      <td>Brooklyn, NY</td>\n",
       "      <td>American Pale Ale (APA)</td>\n",
       "      <td>12 oz.</td>\n",
       "      <td>5.5</td>\n",
       "      <td>Does not apply</td>\n",
       "    </tr>\n",
       "    <tr>\n",
       "      <th>1366</th>\n",
       "      <td>Bikini Beer</td>\n",
       "      <td>Evil Twin Brewing</td>\n",
       "      <td>Brooklyn, NY</td>\n",
       "      <td>American IPA</td>\n",
       "      <td>12 oz.</td>\n",
       "      <td>2.7</td>\n",
       "      <td>Does not apply</td>\n",
       "    </tr>\n",
       "    <tr>\n",
       "      <th>1373</th>\n",
       "      <td>East India Pale Ale</td>\n",
       "      <td>Brooklyn Brewery</td>\n",
       "      <td>Brooklyn, NY</td>\n",
       "      <td>English India Pale Ale (IPA)</td>\n",
       "      <td>16 oz.</td>\n",
       "      <td>6.8</td>\n",
       "      <td>47</td>\n",
       "    </tr>\n",
       "    <tr>\n",
       "      <th>1624</th>\n",
       "      <td>3Beans</td>\n",
       "      <td>Sixpoint Craft Ales</td>\n",
       "      <td>Brooklyn, NY</td>\n",
       "      <td>Baltic Porter</td>\n",
       "      <td>12 oz.</td>\n",
       "      <td>9.9</td>\n",
       "      <td>85</td>\n",
       "    </tr>\n",
       "    <tr>\n",
       "      <th>1836</th>\n",
       "      <td>Brownstone</td>\n",
       "      <td>Sixpoint Craft Ales</td>\n",
       "      <td>Brooklyn, NY</td>\n",
       "      <td>American Brown Ale</td>\n",
       "      <td>16 oz.</td>\n",
       "      <td>5.9</td>\n",
       "      <td>47</td>\n",
       "    </tr>\n",
       "    <tr>\n",
       "      <th>1857</th>\n",
       "      <td>Brooklyn Summer Ale</td>\n",
       "      <td>Brooklyn Brewery</td>\n",
       "      <td>Brooklyn, NY</td>\n",
       "      <td>English Pale Mild Ale</td>\n",
       "      <td>12 oz.</td>\n",
       "      <td>4.5</td>\n",
       "      <td>Does not apply</td>\n",
       "    </tr>\n",
       "    <tr>\n",
       "      <th>1962</th>\n",
       "      <td>Hipster Ale (Westbrook Brewing)</td>\n",
       "      <td>Evil Twin Brewing</td>\n",
       "      <td>Brooklyn, NY</td>\n",
       "      <td>American Pale Ale (APA)</td>\n",
       "      <td>12 oz.</td>\n",
       "      <td>5.5</td>\n",
       "      <td>Does not apply</td>\n",
       "    </tr>\n",
       "    <tr>\n",
       "      <th>1970</th>\n",
       "      <td>Apollo</td>\n",
       "      <td>Sixpoint Craft Ales</td>\n",
       "      <td>Brooklyn, NY</td>\n",
       "      <td>American Pale Wheat Ale</td>\n",
       "      <td>16 oz.</td>\n",
       "      <td>5.2</td>\n",
       "      <td>11</td>\n",
       "    </tr>\n",
       "    <tr>\n",
       "      <th>1971</th>\n",
       "      <td>Harbinger</td>\n",
       "      <td>Sixpoint Craft Ales</td>\n",
       "      <td>Brooklyn, NY</td>\n",
       "      <td>Saison / Farmhouse Ale</td>\n",
       "      <td>16 oz.</td>\n",
       "      <td>4.9</td>\n",
       "      <td>35</td>\n",
       "    </tr>\n",
       "    <tr>\n",
       "      <th>1972</th>\n",
       "      <td>Resin</td>\n",
       "      <td>Sixpoint Craft Ales</td>\n",
       "      <td>Brooklyn, NY</td>\n",
       "      <td>American Double / Imperial IPA</td>\n",
       "      <td>12 oz.</td>\n",
       "      <td>9.1</td>\n",
       "      <td>103</td>\n",
       "    </tr>\n",
       "    <tr>\n",
       "      <th>2027</th>\n",
       "      <td>East India Pale Ale</td>\n",
       "      <td>Brooklyn Brewery</td>\n",
       "      <td>Brooklyn, NY</td>\n",
       "      <td>English India Pale Ale (IPA)</td>\n",
       "      <td>12 oz.</td>\n",
       "      <td>6.8</td>\n",
       "      <td>47</td>\n",
       "    </tr>\n",
       "    <tr>\n",
       "      <th>2062</th>\n",
       "      <td>Diesel</td>\n",
       "      <td>Sixpoint Craft Ales</td>\n",
       "      <td>Brooklyn, NY</td>\n",
       "      <td>American Stout</td>\n",
       "      <td>16 oz.</td>\n",
       "      <td>6.3</td>\n",
       "      <td>69</td>\n",
       "    </tr>\n",
       "    <tr>\n",
       "      <th>2074</th>\n",
       "      <td>Autumnation (2011-12) (2011)</td>\n",
       "      <td>Sixpoint Craft Ales</td>\n",
       "      <td>Brooklyn, NY</td>\n",
       "      <td>Pumpkin Ale</td>\n",
       "      <td>16 oz.</td>\n",
       "      <td>6.0</td>\n",
       "      <td>48</td>\n",
       "    </tr>\n",
       "    <tr>\n",
       "      <th>2140</th>\n",
       "      <td>The Crisp (2011)</td>\n",
       "      <td>Sixpoint Craft Ales</td>\n",
       "      <td>Brooklyn, NY</td>\n",
       "      <td>German Pilsener</td>\n",
       "      <td>16 oz.</td>\n",
       "      <td>5.4</td>\n",
       "      <td>42</td>\n",
       "    </tr>\n",
       "    <tr>\n",
       "      <th>2141</th>\n",
       "      <td>Sweet Action (2011)</td>\n",
       "      <td>Sixpoint Craft Ales</td>\n",
       "      <td>Brooklyn, NY</td>\n",
       "      <td>Cream Ale</td>\n",
       "      <td>16 oz.</td>\n",
       "      <td>5.2</td>\n",
       "      <td>34</td>\n",
       "    </tr>\n",
       "    <tr>\n",
       "      <th>2142</th>\n",
       "      <td>Righteous Ale (2011)</td>\n",
       "      <td>Sixpoint Craft Ales</td>\n",
       "      <td>Brooklyn, NY</td>\n",
       "      <td>Rye Beer</td>\n",
       "      <td>16 oz.</td>\n",
       "      <td>6.3</td>\n",
       "      <td>57</td>\n",
       "    </tr>\n",
       "    <tr>\n",
       "      <th>2143</th>\n",
       "      <td>Bengali Tiger (2011)</td>\n",
       "      <td>Sixpoint Craft Ales</td>\n",
       "      <td>Brooklyn, NY</td>\n",
       "      <td>American IPA</td>\n",
       "      <td>16 oz.</td>\n",
       "      <td>6.4</td>\n",
       "      <td>62</td>\n",
       "    </tr>\n",
       "    <tr>\n",
       "      <th>2219</th>\n",
       "      <td>Brooklyn Summer Ale (2011)</td>\n",
       "      <td>Brooklyn Brewery</td>\n",
       "      <td>Brooklyn, NY</td>\n",
       "      <td>English Pale Mild Ale</td>\n",
       "      <td>12 oz.</td>\n",
       "      <td>4.5</td>\n",
       "      <td>Does not apply</td>\n",
       "    </tr>\n",
       "    <tr>\n",
       "      <th>2350</th>\n",
       "      <td>Brooklyn Lager (16 oz.)</td>\n",
       "      <td>Brooklyn Brewery</td>\n",
       "      <td>Brooklyn, NY</td>\n",
       "      <td>American Amber / Red Lager</td>\n",
       "      <td>16 oz.</td>\n",
       "      <td>5.2</td>\n",
       "      <td>Does not apply</td>\n",
       "    </tr>\n",
       "    <tr>\n",
       "      <th>2351</th>\n",
       "      <td>Brooklyn Lager (12 oz.)</td>\n",
       "      <td>Brooklyn Brewery</td>\n",
       "      <td>Brooklyn, NY</td>\n",
       "      <td>American Amber / Red Lager</td>\n",
       "      <td>12 oz.</td>\n",
       "      <td>5.2</td>\n",
       "      <td>Does not apply</td>\n",
       "    </tr>\n",
       "  </tbody>\n",
       "</table>\n",
       "</div>"
      ],
      "text/plain": [
       "                                 Beer              Brewery      Location  \\\n",
       "115                            4Beans  Sixpoint Craft Ales  Brooklyn, NY   \n",
       "210                            Jammer  Sixpoint Craft Ales  Brooklyn, NY   \n",
       "246                           Abigale  Sixpoint Craft Ales  Brooklyn, NY   \n",
       "404                     Nomader Weiss    Evil Twin Brewing  Brooklyn, NY   \n",
       "421                               Rad  Sixpoint Craft Ales  Brooklyn, NY   \n",
       "439                      Molotov Lite    Evil Twin Brewing  Brooklyn, NY   \n",
       "588                           Bengali  Sixpoint Craft Ales  Brooklyn, NY   \n",
       "713                     Sensi Harvest  Sixpoint Craft Ales  Brooklyn, NY   \n",
       "969                            Hi-Res  Sixpoint Craft Ales  Brooklyn, NY   \n",
       "987             KelSo Nut Brown Lager   KelSo Beer Company  Brooklyn, NY   \n",
       "1057                    Global Warmer  Sixpoint Craft Ales  Brooklyn, NY   \n",
       "1074               Autumnation (2013)  Sixpoint Craft Ales  Brooklyn, NY   \n",
       "1093             KelSo India Pale Ale   KelSo Beer Company  Brooklyn, NY   \n",
       "1267                        The Crisp  Sixpoint Craft Ales  Brooklyn, NY   \n",
       "1268                     Sweet Action  Sixpoint Craft Ales  Brooklyn, NY   \n",
       "1269                    Righteous Ale  Sixpoint Craft Ales  Brooklyn, NY   \n",
       "1270                    Bengali Tiger  Sixpoint Craft Ales  Brooklyn, NY   \n",
       "1305                    KelSo Pilsner   KelSo Beer Company  Brooklyn, NY   \n",
       "1365  Hipster Ale (Two Roads Brewing)    Evil Twin Brewing  Brooklyn, NY   \n",
       "1366                      Bikini Beer    Evil Twin Brewing  Brooklyn, NY   \n",
       "1373              East India Pale Ale     Brooklyn Brewery  Brooklyn, NY   \n",
       "1624                           3Beans  Sixpoint Craft Ales  Brooklyn, NY   \n",
       "1836                       Brownstone  Sixpoint Craft Ales  Brooklyn, NY   \n",
       "1857              Brooklyn Summer Ale     Brooklyn Brewery  Brooklyn, NY   \n",
       "1962  Hipster Ale (Westbrook Brewing)    Evil Twin Brewing  Brooklyn, NY   \n",
       "1970                           Apollo  Sixpoint Craft Ales  Brooklyn, NY   \n",
       "1971                        Harbinger  Sixpoint Craft Ales  Brooklyn, NY   \n",
       "1972                            Resin  Sixpoint Craft Ales  Brooklyn, NY   \n",
       "2027              East India Pale Ale     Brooklyn Brewery  Brooklyn, NY   \n",
       "2062                           Diesel  Sixpoint Craft Ales  Brooklyn, NY   \n",
       "2074     Autumnation (2011-12) (2011)  Sixpoint Craft Ales  Brooklyn, NY   \n",
       "2140                 The Crisp (2011)  Sixpoint Craft Ales  Brooklyn, NY   \n",
       "2141              Sweet Action (2011)  Sixpoint Craft Ales  Brooklyn, NY   \n",
       "2142             Righteous Ale (2011)  Sixpoint Craft Ales  Brooklyn, NY   \n",
       "2143             Bengali Tiger (2011)  Sixpoint Craft Ales  Brooklyn, NY   \n",
       "2219       Brooklyn Summer Ale (2011)     Brooklyn Brewery  Brooklyn, NY   \n",
       "2350          Brooklyn Lager (16 oz.)     Brooklyn Brewery  Brooklyn, NY   \n",
       "2351          Brooklyn Lager (12 oz.)     Brooklyn Brewery  Brooklyn, NY   \n",
       "\n",
       "                               Style               Size   ABV            IBUs  \n",
       "115                    Baltic Porter             12 oz.  10.0              52  \n",
       "210                             Gose    12 oz. Slimline   4.2              16  \n",
       "246                 Belgian Pale Ale             12 oz.   8.0  Does not apply  \n",
       "404               Berliner Weissbier             12 oz.   4.0  Does not apply  \n",
       "421           Fruit / Vegetable Beer             16 oz.   3.2               7  \n",
       "439   American Double / Imperial IPA             16 oz.   8.5  Does not apply  \n",
       "588                     American IPA  24 oz. \"Silo Can\"   6.5              62  \n",
       "713          American Pale Ale (APA)             12 oz.   4.7              50  \n",
       "969   American Double / Imperial IPA             12 oz.   9.9             111  \n",
       "987                  Euro Dark Lager             12 oz.   5.7              19  \n",
       "1057             American Strong Ale             12 oz.   7.0              70  \n",
       "1074                    American IPA             16 oz.   6.7              74  \n",
       "1093                    American IPA             12 oz.   6.0              64  \n",
       "1267                 German Pilsener             16 oz.   5.4              42  \n",
       "1268                       Cream Ale             16 oz.   5.2              34  \n",
       "1269                        Rye Beer             16 oz.   6.3              57  \n",
       "1270                    American IPA             16 oz.   6.4              62  \n",
       "1305                  Czech Pilsener             12 oz.   5.5              23  \n",
       "1365         American Pale Ale (APA)             12 oz.   5.5  Does not apply  \n",
       "1366                    American IPA             12 oz.   2.7  Does not apply  \n",
       "1373    English India Pale Ale (IPA)             16 oz.   6.8              47  \n",
       "1624                   Baltic Porter             12 oz.   9.9              85  \n",
       "1836              American Brown Ale             16 oz.   5.9              47  \n",
       "1857           English Pale Mild Ale             12 oz.   4.5  Does not apply  \n",
       "1962         American Pale Ale (APA)             12 oz.   5.5  Does not apply  \n",
       "1970         American Pale Wheat Ale             16 oz.   5.2              11  \n",
       "1971          Saison / Farmhouse Ale             16 oz.   4.9              35  \n",
       "1972  American Double / Imperial IPA             12 oz.   9.1             103  \n",
       "2027    English India Pale Ale (IPA)             12 oz.   6.8              47  \n",
       "2062                  American Stout             16 oz.   6.3              69  \n",
       "2074                     Pumpkin Ale             16 oz.   6.0              48  \n",
       "2140                 German Pilsener             16 oz.   5.4              42  \n",
       "2141                       Cream Ale             16 oz.   5.2              34  \n",
       "2142                        Rye Beer             16 oz.   6.3              57  \n",
       "2143                    American IPA             16 oz.   6.4              62  \n",
       "2219           English Pale Mild Ale             12 oz.   4.5  Does not apply  \n",
       "2350      American Amber / Red Lager             16 oz.   5.2  Does not apply  \n",
       "2351      American Amber / Red Lager             12 oz.   5.2  Does not apply  "
      ]
     },
     "execution_count": 16,
     "metadata": {},
     "output_type": "execute_result"
    }
   ],
   "source": [
    "df[df.Location == 'Brooklyn, NY']"
   ]
  },
  {
   "cell_type": "markdown",
   "metadata": {},
   "source": [
    "## What brewery in Brooklyn puts out the most cans of beer?"
   ]
  },
  {
   "cell_type": "code",
   "execution_count": 43,
   "metadata": {},
   "outputs": [
    {
     "data": {
      "text/plain": [
       "'Sixpoint Craft Ales'"
      ]
     },
     "execution_count": 43,
     "metadata": {},
     "output_type": "execute_result"
    }
   ],
   "source": [
    "df.Brewery[df.Location == 'Brooklyn, NY'].max()"
   ]
  },
  {
   "cell_type": "code",
   "execution_count": 42,
   "metadata": {},
   "outputs": [
    {
     "data": {
      "text/plain": [
       "Sixpoint Craft Ales    24\n",
       "Name: Brewery, dtype: int64"
      ]
     },
     "execution_count": 42,
     "metadata": {},
     "output_type": "execute_result"
    }
   ],
   "source": [
    "df.Brewery[df.Location == 'Brooklyn, NY'].value_counts().head(1)"
   ]
  },
  {
   "cell_type": "markdown",
   "metadata": {},
   "source": [
    "## What are the five most popular styles of beer produced by Sixpoint?"
   ]
  },
  {
   "cell_type": "code",
   "execution_count": 38,
   "metadata": {},
   "outputs": [
    {
     "data": {
      "text/plain": [
       "American IPA                      4\n",
       "German Pilsener                   2\n",
       "American Double / Imperial IPA    2\n",
       "Rye Beer                          2\n",
       "Baltic Porter                     2\n",
       "Cream Ale                         2\n",
       "Name: Style, dtype: int64"
      ]
     },
     "execution_count": 38,
     "metadata": {},
     "output_type": "execute_result"
    }
   ],
   "source": [
    "df.Style[df.Brewery == 'Sixpoint Craft Ales'].value_counts().head(6)"
   ]
  },
  {
   "cell_type": "markdown",
   "metadata": {},
   "source": [
    "## List all of the breweries in New York state.\n",
    "\n",
    "- *Tip: We want to match *part* of the `Location` column, but not all of it.*\n",
    "- *Tip: Watch out for `NaN` values! You might be close, but you'll need to pass an extra parameter to make it work without an error.*"
   ]
  },
  {
   "cell_type": "code",
   "execution_count": null,
   "metadata": {},
   "outputs": [],
   "source": []
  },
  {
   "cell_type": "markdown",
   "metadata": {},
   "source": [
    "### Now *count* all of the breweries in New York state"
   ]
  },
  {
   "cell_type": "code",
   "execution_count": null,
   "metadata": {},
   "outputs": [],
   "source": []
  },
  {
   "cell_type": "markdown",
   "metadata": {},
   "source": [
    "# Measuring International Bitterness Units\n",
    "\n",
    "## Display all of the IPAs\n",
    "\n",
    "Include American IPAs, Imperial IPAs, and anything else with \"IPA in it.\"\n",
    "\n",
    "IPA stands for [India Pale Ale](https://www.bonappetit.com/story/ipa-beer-styles), and is probably the most popular kind of beer in the US for people who are drinking [craft beer](https://www.craftbeer.com/beer/what-is-craft-beer)."
   ]
  },
  {
   "cell_type": "code",
   "execution_count": null,
   "metadata": {},
   "outputs": [],
   "source": []
  },
  {
   "cell_type": "markdown",
   "metadata": {},
   "source": [
    "IPAs are usually pretty hoppy and bitter. IBU stands for [International Bitterness Unit](http://www.thebrewenthusiast.com/ibus/), and while a lot of places like to brag about having the most bitter beer (it's an American thing!), IBUs don't necessary *mean anything*.\n",
    "\n",
    "Let's look at how different beers have different IBU measurements."
   ]
  },
  {
   "cell_type": "markdown",
   "metadata": {},
   "source": [
    "## Try to get the average IBU measurement across all beers"
   ]
  },
  {
   "cell_type": "code",
   "execution_count": null,
   "metadata": {},
   "outputs": [],
   "source": []
  },
  {
   "cell_type": "markdown",
   "metadata": {},
   "source": [
    "### Oh no, it doesn't work!\n",
    "\n",
    "It looks like some of those values *aren't numbers*. There are two ways to fix this:\n",
    "\n",
    "1. Do the `.replace` and `np.nan` thing we did in class. Then convert the column to a number. This is boring.\n",
    "2. When you're reading in your csv, there [is an option called `na_values`](http://pandas.pydata.org/pandas-docs/version/0.23/generated/pandas.read_csv.html). You can give it a list of **numbers or strings to count as `NaN`**. It's a lot easier than doing the `np.nan` thing, although you'll need to go add it up top and run all of your cells again.\n",
    "\n",
    "- *Tip: Make sure you're giving `na_values` a LIST, not just a string*\n",
    "\n",
    "### Now try to get the average IBUs again"
   ]
  },
  {
   "cell_type": "code",
   "execution_count": null,
   "metadata": {},
   "outputs": [],
   "source": []
  },
  {
   "cell_type": "markdown",
   "metadata": {},
   "source": [
    "## Draw the distribution of IBU measurements, but with *twenty* bins instead of the default of 10\n",
    "\n",
    "- *Tip: Every time I ask for a distribution, I'm looking for a histogram*\n",
    "- *Tip: Use the `?` to get all of the options for building a histogram*\n",
    "- *Tip: Make sure your `matplotlib` thing is set up right!*"
   ]
  },
  {
   "cell_type": "code",
   "execution_count": null,
   "metadata": {},
   "outputs": [],
   "source": []
  },
  {
   "cell_type": "markdown",
   "metadata": {},
   "source": [
    "## Hm, Interesting distribution. List all of the beers with IBUs above the 75th percentile\n",
    "\n",
    "- *Tip: There's a single that gives you the 25/50/75th percentile*\n",
    "- *Tip: You can just manually type the number when you list those beers*"
   ]
  },
  {
   "cell_type": "code",
   "execution_count": null,
   "metadata": {},
   "outputs": [],
   "source": []
  },
  {
   "cell_type": "code",
   "execution_count": null,
   "metadata": {},
   "outputs": [],
   "source": []
  },
  {
   "cell_type": "markdown",
   "metadata": {},
   "source": [
    "## List all of the beers with IBUs below the 25th percentile"
   ]
  },
  {
   "cell_type": "code",
   "execution_count": null,
   "metadata": {},
   "outputs": [],
   "source": []
  },
  {
   "cell_type": "markdown",
   "metadata": {},
   "source": [
    "## List the median IBUs of each type of beer. Graph it.\n",
    "\n",
    "Put the highest at the top, and the missing ones at the bottom.\n",
    "\n",
    "- Tip: Look at the options for `sort_values` to figure out the `NaN` thing. The `?` probably won't help you here."
   ]
  },
  {
   "cell_type": "code",
   "execution_count": null,
   "metadata": {},
   "outputs": [],
   "source": []
  },
  {
   "cell_type": "code",
   "execution_count": null,
   "metadata": {},
   "outputs": [],
   "source": []
  },
  {
   "cell_type": "markdown",
   "metadata": {},
   "source": [
    "## Hmmmm, it looks like they are generally different styles. What are the most common 5 styles of high-IBU beer vs. low-IBU beer?\n",
    "\n",
    "- *Tip: You'll want to think about it in three pieces - filtering to only find the specific beers beers, then finding out what the most common styles are, then getting the top 5.*\n",
    "- *Tip: You CANNOT do this in one command. It's going to be one command for the high and one for the low.*\n",
    "- *Tip: \"High IBU\" means higher than 75th percentile, \"Low IBU\" is under 25th percentile*"
   ]
  },
  {
   "cell_type": "code",
   "execution_count": null,
   "metadata": {},
   "outputs": [],
   "source": []
  },
  {
   "cell_type": "code",
   "execution_count": null,
   "metadata": {},
   "outputs": [],
   "source": []
  },
  {
   "cell_type": "markdown",
   "metadata": {},
   "source": [
    "## Get the average IBU of \"Witbier\", \"Hefeweizen\" and \"American Pale Wheat Ale\" styles\n",
    "\n",
    "I'm counting these as wheat beers. If you see any other wheat beer categories, feel free to include them. I want ONE measurement and ONE graph, not three separate ones. And 20 to 30 bins in the histogram, please.\n",
    "\n",
    "- *Tip: I hope that `isin` is in your toolbox*"
   ]
  },
  {
   "cell_type": "code",
   "execution_count": null,
   "metadata": {},
   "outputs": [],
   "source": []
  },
  {
   "cell_type": "markdown",
   "metadata": {},
   "source": [
    "## Draw a histogram of the IBUs of those beers"
   ]
  },
  {
   "cell_type": "code",
   "execution_count": null,
   "metadata": {},
   "outputs": [],
   "source": []
  },
  {
   "cell_type": "markdown",
   "metadata": {},
   "source": [
    "## Get the average IBU of any style with \"IPA\" in it (also draw a histogram)"
   ]
  },
  {
   "cell_type": "code",
   "execution_count": null,
   "metadata": {},
   "outputs": [],
   "source": []
  },
  {
   "cell_type": "code",
   "execution_count": null,
   "metadata": {},
   "outputs": [],
   "source": []
  },
  {
   "cell_type": "markdown",
   "metadata": {},
   "source": [
    "## Plot those two histograms on top of one another\n",
    "\n",
    "To plot two plots on top of one another, you do two steps.\n",
    "\n",
    "1. First, you make a plot using `plot` or `hist`, and you save it into a variable called `ax`.\n",
    "2. You draw your second graph using `plot` or `hist`, and send `ax=ax` to it as a parameter.\n",
    "\n",
    "It would look something like this:\n",
    "\n",
    "```python\n",
    "ax = df.plot(....)\n",
    "df.plot(ax=ax, ....)\n",
    "``` \n",
    "\n",
    "(...except totally different)"
   ]
  },
  {
   "cell_type": "code",
   "execution_count": null,
   "metadata": {},
   "outputs": [],
   "source": []
  },
  {
   "cell_type": "markdown",
   "metadata": {},
   "source": [
    "## Compare the ABV of wheat beers vs. IPAs : their IBUs were really different, but how about their alcohol percentage?\n",
    "\n",
    "Wheat beers might include witbier, hefeweizen, American Pale Wheat Ale, and anything else you think is wheaty. IPAs probably have \"IPA\" in their name."
   ]
  },
  {
   "cell_type": "code",
   "execution_count": null,
   "metadata": {},
   "outputs": [],
   "source": []
  },
  {
   "cell_type": "code",
   "execution_count": null,
   "metadata": {},
   "outputs": [],
   "source": []
  },
  {
   "cell_type": "code",
   "execution_count": null,
   "metadata": {},
   "outputs": [],
   "source": []
  },
  {
   "cell_type": "markdown",
   "metadata": {
    "collapsed": true
   },
   "source": [
    "## Good work!\n",
    "\n",
    "If you made it this far you deserve a drink."
   ]
  },
  {
   "cell_type": "code",
   "execution_count": null,
   "metadata": {},
   "outputs": [],
   "source": []
  }
 ],
 "metadata": {
  "kernelspec": {
   "display_name": "Python 3",
   "language": "python",
   "name": "python3"
  },
  "language_info": {
   "codemirror_mode": {
    "name": "ipython",
    "version": 3
   },
   "file_extension": ".py",
   "mimetype": "text/x-python",
   "name": "python",
   "nbconvert_exporter": "python",
   "pygments_lexer": "ipython3",
   "version": "3.7.3"
  }
 },
 "nbformat": 4,
 "nbformat_minor": 2
}
